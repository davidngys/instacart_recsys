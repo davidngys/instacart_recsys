{
 "cells": [
  {
   "cell_type": "markdown",
   "metadata": {},
   "source": [
    "# Instacart Recommender System - EDA\n",
    "---"
   ]
  },
  {
   "cell_type": "markdown",
   "metadata": {},
   "source": [
    "## Table of Contents\n",
    "\n",
    "* [1. Problem Statement](#chapter1)\n",
    "    * [1.1 Context and Motivation](#chapter1_1)\n",
    "    * [1.2 Stakeholders](#chapter1_2)\n",
    "    * [1.3 Problem Statement](#chapter1_3)\n",
    "    * [1.4 Evaluation Metrics](#chapter1_4)\n",
    "* [2. Data Inspection](#chapter2)\n",
    "    * [2.1 Aisles](#chapter2_1)\n",
    "    * [2.2 Departments](#chapter2_2)\n",
    "    * [2.3 Order Products](#chapter2_3)\n",
    "    * [2.4 Orders](#chapter2_4)\n",
    "    * [2.5 Products](#chapter2_5)\n",
    "* [3. EDA](#chapter3)\n",
    "    * [3.1 Order Distribution](#chapter3_1)\n",
    "    * [3.2 Product Distribution](#chapter3_2)\n",
    "* [4. EDA Findings](#chapter4)"
   ]
  },
  {
   "cell_type": "code",
   "execution_count": 1,
   "metadata": {},
   "outputs": [],
   "source": [
    "import numpy as np\n",
    "import pandas as pd\n",
    "import matplotlib.pyplot as plt\n",
    "import seaborn as sns"
   ]
  },
  {
   "cell_type": "markdown",
   "metadata": {},
   "source": [
    "## 1. Problem Statement <a class=\"anchor\" id=\"chapter1\"></a>\n",
    "---\n"
   ]
  },
  {
   "cell_type": "markdown",
   "metadata": {},
   "source": [
    "### 1.1 Context and Motivation <a class=\"anchor\" id=\"chapter1_1\"></a>\n",
    "\n",
    "COVID-19 has accelerated the growth of e-commerce activities. With local e-grocers such as Redmart experiencing growth of about [4 times](https://www.cnbc.com/2020/06/02/coronavirus-singapore-online-grocery-sales-lazada.html), it has become increasingly important to be able to recommend customers relevant products to reduce churn and increase sales. \n",
    "\n",
    "However, unlike traditional retail stores, e-grocers do not have the advantage of having taste booths, or opportunities for customers to chance upon new products while exploring down the aisles. To push products to customers, e-grocers rely on precious screen real estate to recommend products. Furthermore, due to data protection rights, e-grocers are not able to collect demographic information on their customers in order to profile and effectively target different groups. "
   ]
  },
  {
   "cell_type": "markdown",
   "metadata": {},
   "source": [
    "### 1.2 Stakeholders <a class=\"anchor\" id=\"chapter1_2\"></a>\n",
    "\n",
    "|Type|Stakeholders|Value Proposition|Problem Type|\n",
    "|:--|:--|:--|:--|\n",
    "|Primary|Product Team|- Effectively recommend relevant products for customers<br />- Improve customer experience<br />- Reduce churn and increase sales|Business|\n",
    "|Secondary|Commercial Team|- With better understanding of customer behaviour, source for products that customers are interested in<br />- Better targeting ability with promotions|Business|"
   ]
  },
  {
   "cell_type": "markdown",
   "metadata": {},
   "source": [
    "### 1.3 Problem Statement <a class=\"anchor\" id=\"chapter1_3\"></a>\n",
    "\n",
    "Without having demographic information, it is difficult for e-grocers to effectively identify customer groups. Unlike general e-commerce such as Shopee or Lazada, where customers do not need to build a basket of goods, e-grocers have the advantage of customers building a basket with goods coming from a mix of different categories. This provides e-grocers with data on basket mix preferences.\n",
    "\n",
    "Clustering techniques will be explored to see if customers can be effectively grouped into different categories. Based on the preferences of these different groups, a recommendation system based on association rule learning will be designed to effectively recommend relevant products to customers, with the objective to improve overall customer experience."
   ]
  },
  {
   "cell_type": "markdown",
   "metadata": {},
   "source": [
    "### 1.4 Evaluation Metrics <a class=\"anchor\" id=\"chapter1_4\"></a>\n",
    "\n",
    "- Reduction in customer churn rate\n",
    "- Increase in average order value"
   ]
  },
  {
   "cell_type": "markdown",
   "metadata": {},
   "source": [
    "## 2. Data Inspection <a class=\"anchor\" id=\"chapter1\"></a>\n",
    "---\n",
    " \n",
    "This project is based on data from Instacart, an American e-grocer. This notebook will explore the datasets available to derive the methodology for the model."
   ]
  },
  {
   "cell_type": "code",
   "execution_count": 2,
   "metadata": {},
   "outputs": [],
   "source": [
    "aisles = pd.read_csv('../data/aisles.csv')\n",
    "dept = pd.read_csv('../data/departments.csv')\n",
    "order_prod = pd.read_csv('../data/order_products__train.csv')\n",
    "orders = pd.read_csv('../data/orders.csv')\n",
    "products = pd.read_csv('../data/products.csv')"
   ]
  },
  {
   "cell_type": "code",
   "execution_count": 3,
   "metadata": {},
   "outputs": [],
   "source": [
    "def data_inspect(df):\n",
    "    print('Check for null values.')\n",
    "    print(df.isnull().sum())\n",
    "    print('\\n')\n",
    "    print('Check data types.')\n",
    "    print(df.dtypes)\n",
    "    print('\\n')\n",
    "    print('Check shape of data')\n",
    "    print(f\"Data has {df.shape[0]} rows and {df.shape[1]} columns.\")"
   ]
  },
  {
   "cell_type": "markdown",
   "metadata": {},
   "source": [
    "### 2.1 Aisles <a class=\"anchor\" id=\"chapter2_1\"></a>"
   ]
  },
  {
   "cell_type": "code",
   "execution_count": 4,
   "metadata": {},
   "outputs": [
    {
     "name": "stdout",
     "output_type": "stream",
     "text": [
      "Check for null values.\n",
      "aisle_id    0\n",
      "aisle       0\n",
      "dtype: int64\n",
      "\n",
      "\n",
      "Check data types.\n",
      "aisle_id     int64\n",
      "aisle       object\n",
      "dtype: object\n",
      "\n",
      "\n",
      "Check shape of data\n",
      "Data has 134 rows and 2 columns.\n"
     ]
    }
   ],
   "source": [
    "data_inspect(aisles)"
   ]
  },
  {
   "cell_type": "code",
   "execution_count": 5,
   "metadata": {},
   "outputs": [
    {
     "data": {
      "text/html": [
       "<div>\n",
       "<style scoped>\n",
       "    .dataframe tbody tr th:only-of-type {\n",
       "        vertical-align: middle;\n",
       "    }\n",
       "\n",
       "    .dataframe tbody tr th {\n",
       "        vertical-align: top;\n",
       "    }\n",
       "\n",
       "    .dataframe thead th {\n",
       "        text-align: right;\n",
       "    }\n",
       "</style>\n",
       "<table border=\"1\" class=\"dataframe\">\n",
       "  <thead>\n",
       "    <tr style=\"text-align: right;\">\n",
       "      <th></th>\n",
       "      <th>aisle_id</th>\n",
       "      <th>aisle</th>\n",
       "    </tr>\n",
       "  </thead>\n",
       "  <tbody>\n",
       "    <tr>\n",
       "      <th>0</th>\n",
       "      <td>1</td>\n",
       "      <td>prepared soups salads</td>\n",
       "    </tr>\n",
       "    <tr>\n",
       "      <th>1</th>\n",
       "      <td>2</td>\n",
       "      <td>specialty cheeses</td>\n",
       "    </tr>\n",
       "    <tr>\n",
       "      <th>2</th>\n",
       "      <td>3</td>\n",
       "      <td>energy granola bars</td>\n",
       "    </tr>\n",
       "    <tr>\n",
       "      <th>3</th>\n",
       "      <td>4</td>\n",
       "      <td>instant foods</td>\n",
       "    </tr>\n",
       "    <tr>\n",
       "      <th>4</th>\n",
       "      <td>5</td>\n",
       "      <td>marinades meat preparation</td>\n",
       "    </tr>\n",
       "  </tbody>\n",
       "</table>\n",
       "</div>"
      ],
      "text/plain": [
       "   aisle_id                       aisle\n",
       "0         1       prepared soups salads\n",
       "1         2           specialty cheeses\n",
       "2         3         energy granola bars\n",
       "3         4               instant foods\n",
       "4         5  marinades meat preparation"
      ]
     },
     "metadata": {},
     "output_type": "display_data"
    }
   ],
   "source": [
    "display(aisles.head())"
   ]
  },
  {
   "cell_type": "code",
   "execution_count": 6,
   "metadata": {},
   "outputs": [
    {
     "name": "stdout",
     "output_type": "stream",
     "text": [
      "['prepared soups salads' 'specialty cheeses' 'energy granola bars'\n",
      " 'instant foods' 'marinades meat preparation' 'other' 'packaged meat'\n",
      " 'bakery desserts' 'pasta sauce' 'kitchen supplies' 'cold flu allergy'\n",
      " 'fresh pasta' 'prepared meals' 'tofu meat alternatives'\n",
      " 'packaged seafood' 'fresh herbs' 'baking ingredients'\n",
      " 'bulk dried fruits vegetables' 'oils vinegars' 'oral hygiene'\n",
      " 'packaged cheese' 'hair care' 'popcorn jerky' 'fresh fruits' 'soap'\n",
      " 'coffee' 'beers coolers' 'red wines' 'honeys syrups nectars'\n",
      " 'latino foods' 'refrigerated' 'packaged produce' 'kosher foods'\n",
      " 'frozen meat seafood' 'poultry counter' 'butter' 'ice cream ice'\n",
      " 'frozen meals' 'seafood counter' 'dog food care' 'cat food care'\n",
      " 'frozen vegan vegetarian' 'buns rolls' 'eye ear care' 'candy chocolate'\n",
      " 'mint gum' 'vitamins supplements' 'breakfast bars pastries'\n",
      " 'packaged poultry' 'fruit vegetable snacks' 'preserved dips spreads'\n",
      " 'frozen breakfast' 'cream' 'paper goods' 'shave needs' 'diapers wipes'\n",
      " 'granola' 'frozen breads doughs' 'canned meals beans' 'trash bags liners'\n",
      " 'cookies cakes' 'white wines' 'grains rice dried goods'\n",
      " 'energy sports drinks' 'protein meal replacements' 'asian foods'\n",
      " 'fresh dips tapenades' 'bulk grains rice dried goods'\n",
      " 'soup broth bouillon' 'digestion' 'refrigerated pudding desserts'\n",
      " 'condiments' 'facial care' 'dish detergents' 'laundry' 'indian foods'\n",
      " 'soft drinks' 'crackers' 'frozen pizza' 'deodorants'\n",
      " 'canned jarred vegetables' 'baby accessories' 'fresh vegetables' 'milk'\n",
      " 'food storage' 'eggs' 'more household' 'spreads'\n",
      " 'salad dressing toppings' 'cocoa drink mixes' 'soy lactosefree'\n",
      " 'baby food formula' 'breakfast bakery' 'tea' 'canned meat seafood'\n",
      " 'lunch meat' 'baking supplies decor' 'juice nectars'\n",
      " 'canned fruit applesauce' 'missing' 'air fresheners candles'\n",
      " 'baby bath body care' 'ice cream toppings' 'spices seasonings'\n",
      " 'doughs gelatins bake mixes' 'hot dogs bacon sausage' 'chips pretzels'\n",
      " 'other creams cheeses' 'skin care' 'pickled goods olives'\n",
      " 'plates bowls cups flatware' 'bread' 'frozen juice' 'cleaning products'\n",
      " 'water seltzer sparkling water' 'frozen produce' 'nuts seeds dried fruit'\n",
      " 'first aid' 'frozen dessert' 'yogurt' 'cereal' 'meat counter'\n",
      " 'packaged vegetables fruits' 'spirits' 'trail mix snack mix'\n",
      " 'feminine care' 'body lotions soap' 'tortillas flat bread'\n",
      " 'frozen appetizers sides' 'hot cereal pancake mixes' 'dry pasta' 'beauty'\n",
      " 'muscles joints pain relief' 'specialty wines champagnes']\n",
      "\n",
      "The aisles data has a total of 134 unique values.\n"
     ]
    }
   ],
   "source": [
    "print(aisles['aisle'].unique())\n",
    "print(f\"\\nThe aisles data has a total of {len(aisles['aisle'].unique())} unique values.\")"
   ]
  },
  {
   "cell_type": "markdown",
   "metadata": {},
   "source": [
    "The aisles data lists the different aisles that categorise the various products available. There are total of 134 unique aisles."
   ]
  },
  {
   "cell_type": "markdown",
   "metadata": {},
   "source": [
    "### 2.2 Departments <a class=\"anchor\" id=\"chapter2_2\"></a>"
   ]
  },
  {
   "cell_type": "code",
   "execution_count": 7,
   "metadata": {},
   "outputs": [
    {
     "name": "stdout",
     "output_type": "stream",
     "text": [
      "Check for null values.\n",
      "department_id    0\n",
      "department       0\n",
      "dtype: int64\n",
      "\n",
      "\n",
      "Check data types.\n",
      "department_id     int64\n",
      "department       object\n",
      "dtype: object\n",
      "\n",
      "\n",
      "Check shape of data\n",
      "Data has 21 rows and 2 columns.\n"
     ]
    }
   ],
   "source": [
    "data_inspect(dept)"
   ]
  },
  {
   "cell_type": "code",
   "execution_count": 8,
   "metadata": {},
   "outputs": [
    {
     "data": {
      "text/html": [
       "<div>\n",
       "<style scoped>\n",
       "    .dataframe tbody tr th:only-of-type {\n",
       "        vertical-align: middle;\n",
       "    }\n",
       "\n",
       "    .dataframe tbody tr th {\n",
       "        vertical-align: top;\n",
       "    }\n",
       "\n",
       "    .dataframe thead th {\n",
       "        text-align: right;\n",
       "    }\n",
       "</style>\n",
       "<table border=\"1\" class=\"dataframe\">\n",
       "  <thead>\n",
       "    <tr style=\"text-align: right;\">\n",
       "      <th></th>\n",
       "      <th>department_id</th>\n",
       "      <th>department</th>\n",
       "    </tr>\n",
       "  </thead>\n",
       "  <tbody>\n",
       "    <tr>\n",
       "      <th>0</th>\n",
       "      <td>1</td>\n",
       "      <td>frozen</td>\n",
       "    </tr>\n",
       "    <tr>\n",
       "      <th>1</th>\n",
       "      <td>2</td>\n",
       "      <td>other</td>\n",
       "    </tr>\n",
       "    <tr>\n",
       "      <th>2</th>\n",
       "      <td>3</td>\n",
       "      <td>bakery</td>\n",
       "    </tr>\n",
       "    <tr>\n",
       "      <th>3</th>\n",
       "      <td>4</td>\n",
       "      <td>produce</td>\n",
       "    </tr>\n",
       "    <tr>\n",
       "      <th>4</th>\n",
       "      <td>5</td>\n",
       "      <td>alcohol</td>\n",
       "    </tr>\n",
       "  </tbody>\n",
       "</table>\n",
       "</div>"
      ],
      "text/plain": [
       "   department_id department\n",
       "0              1     frozen\n",
       "1              2      other\n",
       "2              3     bakery\n",
       "3              4    produce\n",
       "4              5    alcohol"
      ]
     },
     "metadata": {},
     "output_type": "display_data"
    }
   ],
   "source": [
    "display(dept.head())"
   ]
  },
  {
   "cell_type": "code",
   "execution_count": 9,
   "metadata": {},
   "outputs": [
    {
     "name": "stdout",
     "output_type": "stream",
     "text": [
      "['frozen' 'other' 'bakery' 'produce' 'alcohol' 'international' 'beverages'\n",
      " 'pets' 'dry goods pasta' 'bulk' 'personal care' 'meat seafood' 'pantry'\n",
      " 'breakfast' 'canned goods' 'dairy eggs' 'household' 'babies' 'snacks'\n",
      " 'deli' 'missing']\n",
      "\n",
      "The department data has a total of 21 unique values.\n"
     ]
    }
   ],
   "source": [
    "print(dept['department'].unique())\n",
    "print(f\"\\nThe department data has a total of {len(dept['department'].unique())} unique values.\")"
   ]
  },
  {
   "cell_type": "markdown",
   "metadata": {},
   "source": [
    "Departments represent a higher, more general classification of the products. There are a total of 21 different departments."
   ]
  },
  {
   "cell_type": "markdown",
   "metadata": {},
   "source": [
    "### 2.3 Order Products <a class=\"anchor\" id=\"chapter2_3\"></a>"
   ]
  },
  {
   "cell_type": "code",
   "execution_count": 10,
   "metadata": {},
   "outputs": [
    {
     "name": "stdout",
     "output_type": "stream",
     "text": [
      "Check for null values.\n",
      "order_id             0\n",
      "product_id           0\n",
      "add_to_cart_order    0\n",
      "reordered            0\n",
      "dtype: int64\n",
      "\n",
      "\n",
      "Check data types.\n",
      "order_id             int64\n",
      "product_id           int64\n",
      "add_to_cart_order    int64\n",
      "reordered            int64\n",
      "dtype: object\n",
      "\n",
      "\n",
      "Check shape of data\n",
      "Data has 1384617 rows and 4 columns.\n"
     ]
    }
   ],
   "source": [
    "data_inspect(order_prod)"
   ]
  },
  {
   "cell_type": "code",
   "execution_count": 11,
   "metadata": {},
   "outputs": [
    {
     "data": {
      "text/html": [
       "<div>\n",
       "<style scoped>\n",
       "    .dataframe tbody tr th:only-of-type {\n",
       "        vertical-align: middle;\n",
       "    }\n",
       "\n",
       "    .dataframe tbody tr th {\n",
       "        vertical-align: top;\n",
       "    }\n",
       "\n",
       "    .dataframe thead th {\n",
       "        text-align: right;\n",
       "    }\n",
       "</style>\n",
       "<table border=\"1\" class=\"dataframe\">\n",
       "  <thead>\n",
       "    <tr style=\"text-align: right;\">\n",
       "      <th></th>\n",
       "      <th>order_id</th>\n",
       "      <th>product_id</th>\n",
       "      <th>add_to_cart_order</th>\n",
       "      <th>reordered</th>\n",
       "    </tr>\n",
       "  </thead>\n",
       "  <tbody>\n",
       "    <tr>\n",
       "      <th>0</th>\n",
       "      <td>1</td>\n",
       "      <td>49302</td>\n",
       "      <td>1</td>\n",
       "      <td>1</td>\n",
       "    </tr>\n",
       "    <tr>\n",
       "      <th>1</th>\n",
       "      <td>1</td>\n",
       "      <td>11109</td>\n",
       "      <td>2</td>\n",
       "      <td>1</td>\n",
       "    </tr>\n",
       "    <tr>\n",
       "      <th>2</th>\n",
       "      <td>1</td>\n",
       "      <td>10246</td>\n",
       "      <td>3</td>\n",
       "      <td>0</td>\n",
       "    </tr>\n",
       "    <tr>\n",
       "      <th>3</th>\n",
       "      <td>1</td>\n",
       "      <td>49683</td>\n",
       "      <td>4</td>\n",
       "      <td>0</td>\n",
       "    </tr>\n",
       "    <tr>\n",
       "      <th>4</th>\n",
       "      <td>1</td>\n",
       "      <td>43633</td>\n",
       "      <td>5</td>\n",
       "      <td>1</td>\n",
       "    </tr>\n",
       "  </tbody>\n",
       "</table>\n",
       "</div>"
      ],
      "text/plain": [
       "   order_id  product_id  add_to_cart_order  reordered\n",
       "0         1       49302                  1          1\n",
       "1         1       11109                  2          1\n",
       "2         1       10246                  3          0\n",
       "3         1       49683                  4          0\n",
       "4         1       43633                  5          1"
      ]
     },
     "metadata": {},
     "output_type": "display_data"
    }
   ],
   "source": [
    "display(order_prod.head())"
   ]
  },
  {
   "cell_type": "markdown",
   "metadata": {},
   "source": [
    "Order products lists the products ordered for each order, with the respective product id, quantity ordered, and a boolean indicator to indicate if the product is a reordered product or not."
   ]
  },
  {
   "cell_type": "markdown",
   "metadata": {},
   "source": [
    "### 2.4 Orders <a class=\"anchor\" id=\"chapter2_4\"></a>"
   ]
  },
  {
   "cell_type": "code",
   "execution_count": 12,
   "metadata": {},
   "outputs": [
    {
     "name": "stdout",
     "output_type": "stream",
     "text": [
      "Check for null values.\n",
      "order_id                       0\n",
      "user_id                        0\n",
      "eval_set                       0\n",
      "order_number                   0\n",
      "order_dow                      0\n",
      "order_hour_of_day              0\n",
      "days_since_prior_order    206209\n",
      "dtype: int64\n",
      "\n",
      "\n",
      "Check data types.\n",
      "order_id                    int64\n",
      "user_id                     int64\n",
      "eval_set                   object\n",
      "order_number                int64\n",
      "order_dow                   int64\n",
      "order_hour_of_day           int64\n",
      "days_since_prior_order    float64\n",
      "dtype: object\n",
      "\n",
      "\n",
      "Check shape of data\n",
      "Data has 3421083 rows and 7 columns.\n"
     ]
    }
   ],
   "source": [
    "data_inspect(orders)"
   ]
  },
  {
   "cell_type": "code",
   "execution_count": 13,
   "metadata": {},
   "outputs": [
    {
     "data": {
      "text/html": [
       "<div>\n",
       "<style scoped>\n",
       "    .dataframe tbody tr th:only-of-type {\n",
       "        vertical-align: middle;\n",
       "    }\n",
       "\n",
       "    .dataframe tbody tr th {\n",
       "        vertical-align: top;\n",
       "    }\n",
       "\n",
       "    .dataframe thead th {\n",
       "        text-align: right;\n",
       "    }\n",
       "</style>\n",
       "<table border=\"1\" class=\"dataframe\">\n",
       "  <thead>\n",
       "    <tr style=\"text-align: right;\">\n",
       "      <th></th>\n",
       "      <th>order_id</th>\n",
       "      <th>user_id</th>\n",
       "      <th>eval_set</th>\n",
       "      <th>order_number</th>\n",
       "      <th>order_dow</th>\n",
       "      <th>order_hour_of_day</th>\n",
       "      <th>days_since_prior_order</th>\n",
       "    </tr>\n",
       "  </thead>\n",
       "  <tbody>\n",
       "    <tr>\n",
       "      <th>0</th>\n",
       "      <td>2539329</td>\n",
       "      <td>1</td>\n",
       "      <td>prior</td>\n",
       "      <td>1</td>\n",
       "      <td>2</td>\n",
       "      <td>8</td>\n",
       "      <td>NaN</td>\n",
       "    </tr>\n",
       "    <tr>\n",
       "      <th>1</th>\n",
       "      <td>2398795</td>\n",
       "      <td>1</td>\n",
       "      <td>prior</td>\n",
       "      <td>2</td>\n",
       "      <td>3</td>\n",
       "      <td>7</td>\n",
       "      <td>15.0</td>\n",
       "    </tr>\n",
       "    <tr>\n",
       "      <th>2</th>\n",
       "      <td>473747</td>\n",
       "      <td>1</td>\n",
       "      <td>prior</td>\n",
       "      <td>3</td>\n",
       "      <td>3</td>\n",
       "      <td>12</td>\n",
       "      <td>21.0</td>\n",
       "    </tr>\n",
       "    <tr>\n",
       "      <th>3</th>\n",
       "      <td>2254736</td>\n",
       "      <td>1</td>\n",
       "      <td>prior</td>\n",
       "      <td>4</td>\n",
       "      <td>4</td>\n",
       "      <td>7</td>\n",
       "      <td>29.0</td>\n",
       "    </tr>\n",
       "    <tr>\n",
       "      <th>4</th>\n",
       "      <td>431534</td>\n",
       "      <td>1</td>\n",
       "      <td>prior</td>\n",
       "      <td>5</td>\n",
       "      <td>4</td>\n",
       "      <td>15</td>\n",
       "      <td>28.0</td>\n",
       "    </tr>\n",
       "  </tbody>\n",
       "</table>\n",
       "</div>"
      ],
      "text/plain": [
       "   order_id  user_id eval_set  order_number  order_dow  order_hour_of_day  \\\n",
       "0   2539329        1    prior             1          2                  8   \n",
       "1   2398795        1    prior             2          3                  7   \n",
       "2    473747        1    prior             3          3                 12   \n",
       "3   2254736        1    prior             4          4                  7   \n",
       "4    431534        1    prior             5          4                 15   \n",
       "\n",
       "   days_since_prior_order  \n",
       "0                     NaN  \n",
       "1                    15.0  \n",
       "2                    21.0  \n",
       "3                    29.0  \n",
       "4                    28.0  "
      ]
     },
     "metadata": {},
     "output_type": "display_data"
    }
   ],
   "source": [
    "display(orders.head())"
   ]
  },
  {
   "cell_type": "markdown",
   "metadata": {},
   "source": [
    "Orders data has a total of 3,421,083 unique orders, including data such as order_id, the corresponding user_id, the order number of that specific user, order day of week, order hour of day, and days since prior order.\n",
    "\n",
    "Data also has 206,209 null values in the days since prior order column. indicating that there are a total of 206,209 unique customers within the data set."
   ]
  },
  {
   "cell_type": "markdown",
   "metadata": {},
   "source": [
    "### 2.5 Products <a class=\"anchor\" id=\"chapter2_5\"></a>"
   ]
  },
  {
   "cell_type": "code",
   "execution_count": 14,
   "metadata": {},
   "outputs": [
    {
     "name": "stdout",
     "output_type": "stream",
     "text": [
      "Check for null values.\n",
      "product_id       0\n",
      "product_name     0\n",
      "aisle_id         0\n",
      "department_id    0\n",
      "dtype: int64\n",
      "\n",
      "\n",
      "Check data types.\n",
      "product_id        int64\n",
      "product_name     object\n",
      "aisle_id          int64\n",
      "department_id     int64\n",
      "dtype: object\n",
      "\n",
      "\n",
      "Check shape of data\n",
      "Data has 49688 rows and 4 columns.\n"
     ]
    }
   ],
   "source": [
    "data_inspect(products)"
   ]
  },
  {
   "cell_type": "code",
   "execution_count": 15,
   "metadata": {},
   "outputs": [
    {
     "data": {
      "text/html": [
       "<div>\n",
       "<style scoped>\n",
       "    .dataframe tbody tr th:only-of-type {\n",
       "        vertical-align: middle;\n",
       "    }\n",
       "\n",
       "    .dataframe tbody tr th {\n",
       "        vertical-align: top;\n",
       "    }\n",
       "\n",
       "    .dataframe thead th {\n",
       "        text-align: right;\n",
       "    }\n",
       "</style>\n",
       "<table border=\"1\" class=\"dataframe\">\n",
       "  <thead>\n",
       "    <tr style=\"text-align: right;\">\n",
       "      <th></th>\n",
       "      <th>product_id</th>\n",
       "      <th>product_name</th>\n",
       "      <th>aisle_id</th>\n",
       "      <th>department_id</th>\n",
       "    </tr>\n",
       "  </thead>\n",
       "  <tbody>\n",
       "    <tr>\n",
       "      <th>0</th>\n",
       "      <td>1</td>\n",
       "      <td>Chocolate Sandwich Cookies</td>\n",
       "      <td>61</td>\n",
       "      <td>19</td>\n",
       "    </tr>\n",
       "    <tr>\n",
       "      <th>1</th>\n",
       "      <td>2</td>\n",
       "      <td>All-Seasons Salt</td>\n",
       "      <td>104</td>\n",
       "      <td>13</td>\n",
       "    </tr>\n",
       "    <tr>\n",
       "      <th>2</th>\n",
       "      <td>3</td>\n",
       "      <td>Robust Golden Unsweetened Oolong Tea</td>\n",
       "      <td>94</td>\n",
       "      <td>7</td>\n",
       "    </tr>\n",
       "    <tr>\n",
       "      <th>3</th>\n",
       "      <td>4</td>\n",
       "      <td>Smart Ones Classic Favorites Mini Rigatoni Wit...</td>\n",
       "      <td>38</td>\n",
       "      <td>1</td>\n",
       "    </tr>\n",
       "    <tr>\n",
       "      <th>4</th>\n",
       "      <td>5</td>\n",
       "      <td>Green Chile Anytime Sauce</td>\n",
       "      <td>5</td>\n",
       "      <td>13</td>\n",
       "    </tr>\n",
       "  </tbody>\n",
       "</table>\n",
       "</div>"
      ],
      "text/plain": [
       "   product_id                                       product_name  aisle_id  \\\n",
       "0           1                         Chocolate Sandwich Cookies        61   \n",
       "1           2                                   All-Seasons Salt       104   \n",
       "2           3               Robust Golden Unsweetened Oolong Tea        94   \n",
       "3           4  Smart Ones Classic Favorites Mini Rigatoni Wit...        38   \n",
       "4           5                          Green Chile Anytime Sauce         5   \n",
       "\n",
       "   department_id  \n",
       "0             19  \n",
       "1             13  \n",
       "2              7  \n",
       "3              1  \n",
       "4             13  "
      ]
     },
     "metadata": {},
     "output_type": "display_data"
    }
   ],
   "source": [
    "display(products.head())"
   ]
  },
  {
   "cell_type": "markdown",
   "metadata": {},
   "source": [
    "Products contain details on all the products including the product name with its corresponding aisle and department id. There are a total of 49,688 unique products."
   ]
  },
  {
   "cell_type": "markdown",
   "metadata": {},
   "source": [
    "## 3. EDA <a class=\"anchor\" id=\"chapter3\"></a>\n",
    "---\n"
   ]
  },
  {
   "cell_type": "markdown",
   "metadata": {},
   "source": [
    "### 3.1 Order Distribution <a class=\"anchor\" id=\"chapter3_1\"></a>"
   ]
  },
  {
   "cell_type": "code",
   "execution_count": 16,
   "metadata": {},
   "outputs": [
    {
     "name": "stderr",
     "output_type": "stream",
     "text": [
      "<ipython-input-16-c510577d173a>:4: UserWarning: FixedFormatter should only be used together with FixedLocator\n",
      "  fig.set_xticklabels(['','Mon','Tue','Wed','Thu','Fri','Sat','Sun'])\n"
     ]
    },
    {
     "data": {
      "image/png": "[encoded data removed]",
      "text/plain": [
       "<Figure size 576x432 with 1 Axes>"
      ]
     },
     "metadata": {
      "needs_background": "light"
     },
     "output_type": "display_data"
    }
   ],
   "source": [
    "plt.figure(figsize=(8,6))\n",
    "plt.title('Number of orders by day of week', fontsize=18)\n",
    "fig = sns.histplot(data=orders, x='order_dow', discrete=True, color='skyblue')\n",
    "fig.set_xticklabels(['','Mon','Tue','Wed','Thu','Fri','Sat','Sun'])\n",
    "fig.set(xlabel='Day of week',ylabel='Number of orders');"
   ]
  },
  {
   "cell_type": "markdown",
   "metadata": {},
   "source": [
    "Orders seem to be relatively evenly distributed throughtout the days, with a slight peak on Mondays and Tuesdays."
   ]
  },
  {
   "cell_type": "code",
   "execution_count": 17,
   "metadata": {},
   "outputs": [
    {
     "data": {
      "image/png": "[encoded data removed]",
      "text/plain": [
       "<Figure size 576x432 with 1 Axes>"
      ]
     },
     "metadata": {
      "needs_background": "light"
     },
     "output_type": "display_data"
    }
   ],
   "source": [
    "plt.figure(figsize=(8,6))\n",
    "plt.title('Number of orders by hour of day', fontsize=18)\n",
    "fig = sns.histplot(data=orders, x='order_hour_of_day', discrete=True, color='skyblue')\n",
    "fig.set(xlabel='Hour of Day',ylabel='Number of orders');"
   ]
  },
  {
   "cell_type": "markdown",
   "metadata": {},
   "source": [
    "Orders by hour of the day follows a normal distribution closely, with most orders taking place between 9am and 4pm."
   ]
  },
  {
   "cell_type": "code",
   "execution_count": 19,
   "metadata": {},
   "outputs": [
    {
     "data": {
      "image/png": "[encoded data removed]",
      "text/plain": [
       "<Figure size 720x576 with 1 Axes>"
      ]
     },
     "metadata": {
      "needs_background": "light"
     },
     "output_type": "display_data"
    }
   ],
   "source": [
    "plt.figure(figsize=(10,8))\n",
    "plt.title('Distribution of customers by number of orders', fontsize=18)\n",
    "fig = sns.histplot(data=orders, x='order_number', discrete=True, color='skyblue')\n",
    "fig.set(xlabel='Order number',ylabel='Number of customers')\n",
    "plt.savefig('../assets/norders.png');"
   ]
  },
  {
   "cell_type": "markdown",
   "metadata": {},
   "source": [
    "Data consists of same number of customers with order number 1 to 4. This indicates that the data only consists of customers who have made at least 4 orders, and ranges from 4 to a 100 orders. This eliminates the cold start problem for recommender systems."
   ]
  },
  {
   "cell_type": "code",
   "execution_count": 20,
   "metadata": {},
   "outputs": [
    {
     "data": {
      "image/png": "[encoded data removed]",
      "text/plain": [
       "<Figure size 720x576 with 1 Axes>"
      ]
     },
     "metadata": {
      "needs_background": "light"
     },
     "output_type": "display_data"
    }
   ],
   "source": [
    "prod_per_order = order_prod.groupby('order_id').count().sort_values(by='product_id')\n",
    "\n",
    "plt.figure(figsize=(10,8))\n",
    "plt.title('Number of Products Per Order', fontsize=18)\n",
    "fig = sns.histplot(data=prod_per_order, x='product_id', discrete=True, color='skyblue')\n",
    "fig.set(xlabel='Number of products',ylabel='Number of orders')\n",
    "plt.savefig('../assets/asset_per_order.png');"
   ]
  },
  {
   "cell_type": "markdown",
   "metadata": {},
   "source": [
    "Most orders seem to have around 5 to 7 different products in their basket, with most of the orders checking out with 20 or less products."
   ]
  },
  {
   "cell_type": "markdown",
   "metadata": {},
   "source": [
    "### 3.2 Product Distribution <a class=\"anchor\" id=\"chapter3_2\"></a>\n",
    "\n",
    "In order to take a further look into the product distribution, data from `Order Products` needs to be combined with `Products` on the product_id, before combining with `Aisles` and `Departments` in order to get the information on the respective categories."
   ]
  },
  {
   "cell_type": "code",
   "execution_count": 21,
   "metadata": {},
   "outputs": [
    {
     "data": {
      "text/html": [
       "<div>\n",
       "<style scoped>\n",
       "    .dataframe tbody tr th:only-of-type {\n",
       "        vertical-align: middle;\n",
       "    }\n",
       "\n",
       "    .dataframe tbody tr th {\n",
       "        vertical-align: top;\n",
       "    }\n",
       "\n",
       "    .dataframe thead th {\n",
       "        text-align: right;\n",
       "    }\n",
       "</style>\n",
       "<table border=\"1\" class=\"dataframe\">\n",
       "  <thead>\n",
       "    <tr style=\"text-align: right;\">\n",
       "      <th></th>\n",
       "      <th>order_id</th>\n",
       "      <th>product_id</th>\n",
       "      <th>add_to_cart_order</th>\n",
       "      <th>reordered</th>\n",
       "      <th>product_name</th>\n",
       "      <th>aisle_id</th>\n",
       "      <th>department_id</th>\n",
       "      <th>aisle</th>\n",
       "      <th>department</th>\n",
       "    </tr>\n",
       "  </thead>\n",
       "  <tbody>\n",
       "    <tr>\n",
       "      <th>0</th>\n",
       "      <td>1</td>\n",
       "      <td>49302</td>\n",
       "      <td>1</td>\n",
       "      <td>1</td>\n",
       "      <td>Bulgarian Yogurt</td>\n",
       "      <td>120</td>\n",
       "      <td>16</td>\n",
       "      <td>yogurt</td>\n",
       "      <td>dairy eggs</td>\n",
       "    </tr>\n",
       "    <tr>\n",
       "      <th>626138</th>\n",
       "      <td>1</td>\n",
       "      <td>43633</td>\n",
       "      <td>5</td>\n",
       "      <td>1</td>\n",
       "      <td>Lightly Smoked Sardines in Olive Oil</td>\n",
       "      <td>95</td>\n",
       "      <td>15</td>\n",
       "      <td>canned meat seafood</td>\n",
       "      <td>canned goods</td>\n",
       "    </tr>\n",
       "    <tr>\n",
       "      <th>217051</th>\n",
       "      <td>1</td>\n",
       "      <td>10246</td>\n",
       "      <td>3</td>\n",
       "      <td>0</td>\n",
       "      <td>Organic Celery Hearts</td>\n",
       "      <td>83</td>\n",
       "      <td>4</td>\n",
       "      <td>fresh vegetables</td>\n",
       "      <td>produce</td>\n",
       "    </tr>\n",
       "    <tr>\n",
       "      <th>68060</th>\n",
       "      <td>1</td>\n",
       "      <td>22035</td>\n",
       "      <td>8</td>\n",
       "      <td>1</td>\n",
       "      <td>Organic Whole String Cheese</td>\n",
       "      <td>21</td>\n",
       "      <td>16</td>\n",
       "      <td>packaged cheese</td>\n",
       "      <td>dairy eggs</td>\n",
       "    </tr>\n",
       "    <tr>\n",
       "      <th>383140</th>\n",
       "      <td>1</td>\n",
       "      <td>47209</td>\n",
       "      <td>7</td>\n",
       "      <td>0</td>\n",
       "      <td>Organic Hass Avocado</td>\n",
       "      <td>24</td>\n",
       "      <td>4</td>\n",
       "      <td>fresh fruits</td>\n",
       "      <td>produce</td>\n",
       "    </tr>\n",
       "  </tbody>\n",
       "</table>\n",
       "</div>"
      ],
      "text/plain": [
       "        order_id  product_id  add_to_cart_order  reordered  \\\n",
       "0              1       49302                  1          1   \n",
       "626138         1       43633                  5          1   \n",
       "217051         1       10246                  3          0   \n",
       "68060          1       22035                  8          1   \n",
       "383140         1       47209                  7          0   \n",
       "\n",
       "                                product_name  aisle_id  department_id  \\\n",
       "0                           Bulgarian Yogurt       120             16   \n",
       "626138  Lightly Smoked Sardines in Olive Oil        95             15   \n",
       "217051                 Organic Celery Hearts        83              4   \n",
       "68060            Organic Whole String Cheese        21             16   \n",
       "383140                  Organic Hass Avocado        24              4   \n",
       "\n",
       "                      aisle    department  \n",
       "0                    yogurt    dairy eggs  \n",
       "626138  canned meat seafood  canned goods  \n",
       "217051     fresh vegetables       produce  \n",
       "68060       packaged cheese    dairy eggs  \n",
       "383140         fresh fruits       produce  "
      ]
     },
     "metadata": {},
     "output_type": "display_data"
    }
   ],
   "source": [
    "# Merge Order Products with Products on product_id\n",
    "df_a = pd.merge(left=order_prod,right=products,on='product_id')\n",
    "# Merge with aisles data on aisle_id\n",
    "df_b = pd.merge(left=df_a, right=aisles, on='aisle_id')\n",
    "# Merge with department data on department_id\n",
    "product_final = pd.merge(left=df_b, right=dept, on='department_id').sort_values(by='order_id')\n",
    "\n",
    "display(product_final.head())"
   ]
  },
  {
   "cell_type": "code",
   "execution_count": 22,
   "metadata": {},
   "outputs": [
    {
     "data": {
      "image/png": "[encoded data removed]",
      "text/plain": [
       "<Figure size 1224x576 with 1 Axes>"
      ]
     },
     "metadata": {
      "needs_background": "light"
     },
     "output_type": "display_data"
    }
   ],
   "source": [
    "# Group by aisle values\n",
    "aisle_plot = product_final.groupby('aisle').count().sort_values('order_id', ascending=False)\n",
    "# Plot aisle distribution\n",
    "plt.figure(figsize=(17,8))\n",
    "plt.title('Distribution of products by aisles', fontsize=18)\n",
    "fig1 = sns.barplot(x=aisle_plot.index, y=aisle_plot['order_id'])\n",
    "fig1.set_xticklabels(aisle_plot.index, rotation=90, fontsize=8)\n",
    "fig1.set(xlabel='Aisle',ylabel='Number of products ordered')\n",
    "plt.savefig('../assets/aisle_distribution.png');"
   ]
  },
  {
   "cell_type": "markdown",
   "metadata": {},
   "source": [
    "From the distribution above, fresh vegetables, fresh fruits, packaged vegetables fruits seem to be the most highly sold products. The least sold products comprise of beauty, frozen juice and baby accessories."
   ]
  },
  {
   "cell_type": "code",
   "execution_count": 23,
   "metadata": {},
   "outputs": [
    {
     "data": {
      "image/png": "[encoded data removed]",
      "text/plain": [
       "<Figure size 936x576 with 1 Axes>"
      ]
     },
     "metadata": {
      "needs_background": "light"
     },
     "output_type": "display_data"
    }
   ],
   "source": [
    "# Group by department values\n",
    "department_plot = product_final.groupby('department').count().sort_values('order_id', ascending=False)\n",
    "# Plot aisle distribution\n",
    "plt.figure(figsize=(13,8))\n",
    "plt.title('Distribution of products by department', fontsize=18)\n",
    "fig1 = sns.barplot(x=department_plot.index, y=department_plot['order_id'])\n",
    "fig1.set_xticklabels(department_plot.index, rotation=90, fontsize=10)\n",
    "fig1.set(xlabel='Department',ylabel='Number of products ordered')\n",
    "plt.savefig('../assets/dept_distribution.png');"
   ]
  },
  {
   "cell_type": "markdown",
   "metadata": {},
   "source": [
    "From the department distribution, most of the products bought are from the general category `produce`, followed by `dairy eggs` and `snacks`. The least bought products come from `bulk`, `other`, and `pets`."
   ]
  },
  {
   "cell_type": "markdown",
   "metadata": {},
   "source": [
    "## 4. EDA Findings <a class=\"anchor\" id=\"chapter3\"></a>\n",
    "---\n"
   ]
  },
  {
   "cell_type": "markdown",
   "metadata": {},
   "source": [
    "The objective is to build a recommender system for groceries based on a dataset of online orders. Given what has been observed, there is sufficient data in order to fulfil the objective based on:\n",
    "\n",
    "- Data consists of 3,421,083 orders with 206,209 unique customers.\n",
    "- These customers all have at least 4 orders within the dataset, eliminating any potential cold start issues.\n",
    "- Most orders have up to 20 items per order, given enough data to do a item based recommendation\n",
    "- Each products is matched to a `department` or `aisle`, allowing possible clustering based on basket category mix to be performed on customers. This will be helpful to potentially identify different types of customers (familes, singles, couples etc).\n",
    "\n",
    "The approach taken will be to:\n",
    "- Combine data from orders, aisles and departments\n",
    "- Cluster users based on products purchased from different aisles\n",
    "- Based on clusters, compute `frequency`, `confidence` and `lift` based on association rules\n",
    "- Design recommender to push products based on results of association rules"
   ]
  },
  {
   "cell_type": "code",
   "execution_count": null,
   "metadata": {},
   "outputs": [],
   "source": []
  }
 ],
 "metadata": {
  "kernelspec": {
   "display_name": "Python 3",
   "language": "python",
   "name": "python3"
  },
  "language_info": {
   "codemirror_mode": {
    "name": "ipython",
    "version": 3
   },
   "file_extension": ".py",
   "mimetype": "text/x-python",
   "name": "python",
   "nbconvert_exporter": "python",
   "pygments_lexer": "ipython3",
   "version": "3.8.3"
  }
 },
 "nbformat": 4,
 "nbformat_minor": 4
}
