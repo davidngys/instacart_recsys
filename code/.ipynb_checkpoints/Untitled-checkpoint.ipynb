{
 "cells": [
  {
   "cell_type": "code",
   "execution_count": 1,
   "metadata": {},
   "outputs": [],
   "source": [
    "import numpy as np\n",
    "import pandas as pd\n",
    "from scipy import sparse\n",
    "from sklearn.metrics.pairwise import pairwise_distances"
   ]
  },
  {
   "cell_type": "code",
   "execution_count": 2,
   "metadata": {},
   "outputs": [],
   "source": [
    "user_matrix = sparse.load_npz('../data/user_matrix.npz')"
   ]
  },
  {
   "cell_type": "code",
   "execution_count": 4,
   "metadata": {},
   "outputs": [
    {
     "name": "stdout",
     "output_type": "stream",
     "text": [
      "  (0, 125)\t0.1\n",
      "  (0, 6221)\t0.1\n",
      "  (0, 7859)\t0.1\n",
      "  (0, 15265)\t0.1\n",
      "  (0, 15824)\t0.1\n",
      "  (0, 16024)\t0.1\n",
      "  (0, 23625)\t0.1\n",
      "  (0, 24061)\t0.1\n",
      "  (0, 28012)\t0.1\n",
      "  (0, 29907)\t0.1\n",
      "  (1, 3305)\t0.08333333333333333\n",
      "  (1, 4843)\t0.08333333333333333\n",
      "  (1, 10063)\t0.08333333333333333\n",
      "  (1, 13754)\t0.08333333333333333\n",
      "  (1, 13907)\t0.08333333333333333\n",
      "  (1, 13988)\t0.08333333333333333\n",
      "  (1, 15092)\t0.08333333333333333\n",
      "  (1, 19889)\t0.08333333333333333\n",
      "  (1, 20633)\t0.08333333333333333\n",
      "  (1, 25365)\t0.08333333333333333\n",
      "  (1, 27353)\t0.08333333333333333\n",
      "  (1, 27685)\t0.08333333333333333\n",
      "  (2, 9275)\t0.25\n",
      "  (2, 13041)\t0.25\n",
      "  (2, 13171)\t0.25\n",
      "  :\t:\n",
      "  (122603, 23785)\t0.09090909090909091\n",
      "  (122603, 26404)\t0.09090909090909091\n",
      "  (122603, 28659)\t0.09090909090909091\n",
      "  (122604, 1531)\t0.08333333333333333\n",
      "  (122604, 2286)\t0.08333333333333333\n",
      "  (122604, 7956)\t0.08333333333333333\n",
      "  (122604, 8474)\t0.08333333333333333\n",
      "  (122604, 9497)\t0.08333333333333333\n",
      "  (122604, 13076)\t0.08333333333333333\n",
      "  (122604, 14104)\t0.08333333333333333\n",
      "  (122604, 16010)\t0.08333333333333333\n",
      "  (122604, 19349)\t0.08333333333333333\n",
      "  (122604, 22411)\t0.08333333333333333\n",
      "  (122604, 22572)\t0.08333333333333333\n",
      "  (122604, 24885)\t0.08333333333333333\n",
      "  (122605, 6179)\t0.16666666666666666\n",
      "  (122605, 12863)\t0.16666666666666666\n",
      "  (122605, 13422)\t0.16666666666666666\n",
      "  (122605, 16868)\t0.16666666666666666\n",
      "  (122605, 17407)\t0.16666666666666666\n",
      "  (122605, 19047)\t0.16666666666666666\n",
      "  (122606, 4148)\t0.25\n",
      "  (122606, 5723)\t0.25\n",
      "  (122606, 15092)\t0.25\n",
      "  (122606, 23803)\t0.25\n"
     ]
    }
   ],
   "source": [
    "print(user_matrix)"
   ]
  },
  {
   "cell_type": "code",
   "execution_count": null,
   "metadata": {},
   "outputs": [],
   "source": [
    "recommender = pairwise_distances(user_matrix, metric='cosine')"
   ]
  },
  {
   "cell_type": "code",
   "execution_count": null,
   "metadata": {},
   "outputs": [],
   "source": []
  }
 ],
 "metadata": {
  "kernelspec": {
   "display_name": "Python 3",
   "language": "python",
   "name": "python3"
  },
  "language_info": {
   "codemirror_mode": {
    "name": "ipython",
    "version": 3
   },
   "file_extension": ".py",
   "mimetype": "text/x-python",
   "name": "python",
   "nbconvert_exporter": "python",
   "pygments_lexer": "ipython3",
   "version": "3.8.3"
  }
 },
 "nbformat": 4,
 "nbformat_minor": 4
}
